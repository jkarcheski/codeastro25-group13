{
 "cells": [
  {
   "cell_type": "code",
   "execution_count": 3,
   "id": "67b6a55c",
   "metadata": {},
   "outputs": [],
   "source": [
    "from astropy.io import fits, ascii # type: ignore\n",
    "from astropy.table import unique, Table, hstack # type: ignore\n",
    "import numpy as np # type: ignore\n",
    "\n"
   ]
  },
  {
   "cell_type": "code",
   "execution_count": 4,
   "id": "054c8ef8",
   "metadata": {},
   "outputs": [
    {
     "name": "stdout",
     "output_type": "stream",
     "text": [
      "['MANGAID', 'RA', 'DEC', 'Z', 'WISE_AGN', 'LOG_LBOL_WISE', 'LOG_LBOL_WISE_ERR', 'BAT_AGN', 'LOG_LBOL_BAT', 'LOG_LBOL_BAT_ERR', 'RADIO_AGN', 'LOG_LBOL_RADIO', 'LOG_LBOL_RADIO_ERR', 'RADIO_CLASS', 'BROAD_AGN', 'LOG_LBOL_BROAD', 'LOG_LBOL_BROAD_ERR']\n"
     ]
    }
   ],
   "source": [
    "with fits.open('/mnt/c/Users/Lauren/Documents/codeastro/codeastro25-group13/manga_agn-v2_0_1.fits') as hdu:\n",
    "    data = hdu[1].data\n",
    "\n",
    "    header = hdu[1].header\n",
    "    \n",
    "    table= Table(hdu[1].data)\n",
    "# print('5')\n",
    "table_colnames = table.colnames\n",
    "# print('check1')\n",
    "print(table_colnames)\n"
   ]
  },
  {
   "cell_type": "code",
   "execution_count": 17,
   "id": "d610631f",
   "metadata": {},
   "outputs": [
    {
     "data": {
      "text/plain": [
       "'manga-10214-3703 '"
      ]
     },
     "execution_count": 17,
     "metadata": {},
     "output_type": "execute_result"
    }
   ],
   "source": [
    "table[0][\"MANGAID\"]"
   ]
  },
  {
   "cell_type": "code",
   "execution_count": 27,
   "id": "773ee89c",
   "metadata": {},
   "outputs": [
    {
     "data": {
      "text/plain": [
       "122.92139"
      ]
     },
     "execution_count": 27,
     "metadata": {},
     "output_type": "execute_result"
    }
   ],
   "source": [
    "table[np.where(table['MANGAID']== 'manga-10214-3703 ')[0]]['RA'][0]"
   ]
  },
  {
   "cell_type": "code",
   "execution_count": 25,
   "id": "77efa617",
   "metadata": {},
   "outputs": [
    {
     "data": {
      "text/plain": [
       "122.92138671875"
      ]
     },
     "execution_count": 25,
     "metadata": {},
     "output_type": "execute_result"
    }
   ],
   "source": [
    "float(table[np.where(table['MANGAID']== 'manga-10214-3703 ')[0]]['RA'][0])"
   ]
  },
  {
   "cell_type": "code",
   "execution_count": null,
   "id": "481f4667",
   "metadata": {},
   "outputs": [],
   "source": [
    "# pseudo code\n",
    "# first load in the data from a fits file\n",
    "# then query SDSS to get spectroscopic data \n",
    "# THEN create objects for each AGN \n",
    "# thats where we start >\n",
    "\n",
    "class AGN():\n",
    "    \"\"\"\n",
    "    An AGN \n",
    "    \n",
    "    \n",
    "    \"\"\"\n",
    "\n",
    "    def __init__(self, table, sdssid):\n",
    "        \"\"\" \n",
    "        Function that is run to initialize the class\n",
    "        \"\"\"\n",
    "        # ideally, the sdss data is loaded into an astropy table (or something similar)\n",
    "        # then we can access the object based on some sort of user input (perhaps they have to know the ID ahead of time?)\n",
    "        # use the sdssid provided by the user\n",
    "        self.id = sdssid\n",
    "        # load in ra, dec, z, and category of object matching that sdss ID\n",
    "        # NOTE: this is coded such that table is an astropy table with column names 'RA','DEC','Z','CAT', this code will need editing\n",
    "        self.ra = float(table[np.where(table['MANGAID']== self.id)[0]]['RA'][0])\n",
    "        self.dec = float(table[np.where(table['MANGAID']== self.id)[0]]['DEC'][0])\n",
    "        self.z = float(table[np.where(table['MANGAID']== self.id)[0]]['Z'][0])\n",
    "        # self.category = float(table[np.where(table['MANGAID']== self.id)[0]]['CAT'][0])\n",
    "        \n",
    "    def __repr__(self):\n",
    "        return f\"AGN: {self.id.split('-')[1]} RA = {round(self.ra,5)}, DEC= {round(self.dec,5)}, Z = {round(self.z,5)}\"\n",
    "\n",
    "    def __repr__(self):\n",
    "            #TODO: ABRIANA EDIT HERE\n",
    "            return f\"AGN: {self.id.split('-')[1]} RA = {round(self.ra,5)}, DEC= {round(self.dec,5)}, Z = {round(self.z,5)}\"\n",
    "\n",
    "\n"
   ]
  },
  {
   "cell_type": "code",
   "execution_count": 52,
   "id": "a00336a0",
   "metadata": {},
   "outputs": [],
   "source": [
    "first_agn =  AGN(table,'manga-10214-3703 ')"
   ]
  },
  {
   "cell_type": "code",
   "execution_count": 53,
   "id": "ec4b6db6",
   "metadata": {},
   "outputs": [
    {
     "data": {
      "text/plain": [
       "AGN: 10214 RA = 122.92139, DEC= 36.11578, Z = 0.08626"
      ]
     },
     "execution_count": 53,
     "metadata": {},
     "output_type": "execute_result"
    }
   ],
   "source": [
    "first_agn"
   ]
  },
  {
   "cell_type": "code",
   "execution_count": null,
   "id": "665d4948",
   "metadata": {},
   "outputs": [],
   "source": []
  }
 ],
 "metadata": {
  "kernelspec": {
   "display_name": "codeastro",
   "language": "python",
   "name": "python3"
  },
  "language_info": {
   "codemirror_mode": {
    "name": "ipython",
    "version": 3
   },
   "file_extension": ".py",
   "mimetype": "text/x-python",
   "name": "python",
   "nbconvert_exporter": "python",
   "pygments_lexer": "ipython3",
   "version": "3.10.18"
  }
 },
 "nbformat": 4,
 "nbformat_minor": 5
}
