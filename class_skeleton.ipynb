{
 "cells": [
  {
   "cell_type": "code",
   "execution_count": 3,
   "id": "67b6a55c",
   "metadata": {},
   "outputs": [],
   "source": [
    "from astropy.io import fits, ascii # type: ignore\n",
    "from astropy.table import unique, Table, hstack # type: ignore\n",
    "import numpy as np # type: ignore"
   ]
  },
  {
   "cell_type": "code",
   "execution_count": 4,
   "id": "054c8ef8",
   "metadata": {},
   "outputs": [
    {
     "name": "stdout",
     "output_type": "stream",
     "text": [
      "['MANGAID', 'RA', 'DEC', 'Z', 'WISE_AGN', 'LOG_LBOL_WISE', 'LOG_LBOL_WISE_ERR', 'BAT_AGN', 'LOG_LBOL_BAT', 'LOG_LBOL_BAT_ERR', 'RADIO_AGN', 'LOG_LBOL_RADIO', 'LOG_LBOL_RADIO_ERR', 'RADIO_CLASS', 'BROAD_AGN', 'LOG_LBOL_BROAD', 'LOG_LBOL_BROAD_ERR']\n"
     ]
    }
   ],
   "source": [
    "with fits.open('/Users/user/Documents/GitHub/codeastro25-group13/manga_agn-v2_0_1.fits') as hdu:\n",
    "    data = hdu[1].data\n",
    "\n",
    "    header = hdu[1].header\n",
    "    \n",
    "    table= Table(hdu[1].data)\n",
    "# print('5')\n",
    "table_colnames = table.colnames\n",
    "# print('check1')\n",
    "print(table_colnames)\n"
   ]
  },
  {
   "cell_type": "code",
   "execution_count": 5,
   "id": "d610631f",
   "metadata": {},
   "outputs": [
    {
     "data": {
      "text/plain": [
       "'manga-10214-3703 '"
      ]
     },
     "execution_count": 5,
     "metadata": {},
     "output_type": "execute_result"
    }
   ],
   "source": [
    "table[0][\"MANGAID\"]"
   ]
  },
  {
   "cell_type": "code",
   "execution_count": 6,
   "id": "773ee89c",
   "metadata": {},
   "outputs": [
    {
     "data": {
      "text/plain": [
       "122.92139"
      ]
     },
     "execution_count": 6,
     "metadata": {},
     "output_type": "execute_result"
    }
   ],
   "source": [
    "table[np.where(table['MANGAID']== 'manga-10214-3703 ')[0]]['RA'][0]"
   ]
  },
  {
   "cell_type": "code",
   "execution_count": 7,
   "id": "77efa617",
   "metadata": {},
   "outputs": [
    {
     "data": {
      "text/plain": [
       "122.92138671875"
      ]
     },
     "execution_count": 7,
     "metadata": {},
     "output_type": "execute_result"
    }
   ],
   "source": [
    "float(table[np.where(table['MANGAID']== 'manga-10214-3703 ')[0]]['RA'][0])"
   ]
  },
  {
   "cell_type": "code",
   "execution_count": null,
   "id": "481f4667",
   "metadata": {},
   "outputs": [],
   "source": [
    "# pseudo code\n",
    "# first load in the data from a fits file\n",
    "# then query SDSS to get spectroscopic data \n",
    "# THEN create objects for each AGN \n",
    "# thats where we start >\n",
    "\n",
    "#user-defined plotter with seletion of axes?\n",
    "#functions to get data and plot data \n",
    "\n",
    "class astro_ob(object):\n",
    "    '''\n",
    "    Parent class containing all possible categories of astronomical object.\n",
    "    For now, only contains AGN.\n",
    "    To-do: Maybe make more flexible by turning input data automatically into an Astropy table?\n",
    "    '''\n",
    "    def __init__(self):\n",
    "         self.category = \"AGN\"\n",
    "\n",
    "    def access_FITS(path):\n",
    "        with fits.open(path) as hdu:\n",
    "            data = hdu[1].data\n",
    "            header = hdu[1].header\n",
    "            table = Table(hdu[1].data)\n",
    "\n",
    "class AGN(astro_ob):\n",
    "    \"\"\"\n",
    "    Information that is shown when the astronomical object is an AGN.\n",
    "    \"\"\"\n",
    "\n",
    "    def __init__(self, table, sdssid):\n",
    "        \"\"\" \n",
    "        Function that is run to initialize the class. Pulls RA, Dec, and redshift from table.\n",
    "        \"\"\"\n",
    "        super().__init__() # initializing parent class\n",
    "        \n",
    "        # Load in ra, dec, z, and category of object matching that sdss ID\n",
    "        # ideally, the sdss data is loaded into an astropy table (or something similar)\n",
    "        # then we can access the object based on some sort of user input (perhaps they have to know the ID ahead of time?)\n",
    "        # NOTE: this is coded such that table is an astropy table with column names 'RA','DEC','Z','CAT', this code will need editing\n",
    "        \n",
    "        # Use the sdssid provided by the user to find the following\n",
    "        self.id = sdssid #MANGA ID given by SDSS\n",
    "        self.ra = float(table[np.where(table['MANGAID']== self.id)[0]]['RA'][0]) # Right Ascension [deg]\n",
    "        self.dec = float(table[np.where(table['MANGAID']== self.id)[0]]['DEC'][0]) # Declination [deg]\n",
    "        self.z = float(table[np.where(table['MANGAID']== self.id)[0]]['Z'][0]) # Redshift\n",
    "        \n",
    "    def __repr__(self):\n",
    "        '''\n",
    "        Reprocesses information for an AGN.\n",
    "        '''\n",
    "        return f\"AGN: {self.id.split('-')[1]} RA = {round(self.ra,5)}, DEC= {round(self.dec,5)}, Z = {round(self.z,5)}\"\n",
    "\n",
    "    def __str__(self):\n",
    "        '''\n",
    "       Output message when AGN object is printed.\n",
    "       To-do: maybe also print category of object?\n",
    "        '''\n",
    "        return f\"Information for AGN: {self.id.split('-')[1]}\\n RA = {round(self.ra,5)}\\n DEC= {round(self.dec,5)}\\n Z = {round(self.z,5)}\"\n",
    "\n",
    "\n"
   ]
  },
  {
   "cell_type": "code",
   "execution_count": 15,
   "id": "a00336a0",
   "metadata": {},
   "outputs": [],
   "source": [
    "first_agn =  AGN(table,'manga-10214-3703 ')"
   ]
  },
  {
   "cell_type": "code",
   "execution_count": 16,
   "id": "ec4b6db6",
   "metadata": {},
   "outputs": [
    {
     "data": {
      "text/plain": [
       "AGN: 10214 RA = 122.92139, DEC= 36.11578, Z = 0.08626"
      ]
     },
     "execution_count": 16,
     "metadata": {},
     "output_type": "execute_result"
    }
   ],
   "source": [
    "first_agn"
   ]
  },
  {
   "cell_type": "code",
   "execution_count": 17,
   "id": "665d4948",
   "metadata": {},
   "outputs": [
    {
     "name": "stdout",
     "output_type": "stream",
     "text": [
      "Information for AGN: 10214\n",
      " RA = 122.92139\n",
      " DEC= 36.11578\n",
      " Z = 0.08626\n"
     ]
    }
   ],
   "source": [
    "print(first_agn)"
   ]
  },
  {
   "cell_type": "code",
   "execution_count": 54,
   "id": "82d4023b",
   "metadata": {},
   "outputs": [
    {
     "data": {
      "text/plain": [
       "'manga-10214-3703 '"
      ]
     },
     "execution_count": 54,
     "metadata": {},
     "output_type": "execute_result"
    }
   ],
   "source": [
    "first_agn.id"
   ]
  },
  {
   "cell_type": "code",
   "execution_count": null,
   "id": "6e147eba",
   "metadata": {},
   "outputs": [],
   "source": []
  }
 ],
 "metadata": {
  "kernelspec": {
   "display_name": "codeastro",
   "language": "python",
   "name": "python3"
  },
  "language_info": {
   "codemirror_mode": {
    "name": "ipython",
    "version": 3
   },
   "file_extension": ".py",
   "mimetype": "text/x-python",
   "name": "python",
   "nbconvert_exporter": "python",
   "pygments_lexer": "ipython3",
   "version": "3.10.18"
  }
 },
 "nbformat": 4,
 "nbformat_minor": 5
}
